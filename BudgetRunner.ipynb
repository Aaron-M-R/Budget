{
 "cells": [
  {
   "cell_type": "markdown",
   "id": "3564d7b8",
   "metadata": {},
   "source": [
    "# Budget Runner"
   ]
  },
  {
   "cell_type": "code",
   "execution_count": 1,
   "id": "07bb1fcf",
   "metadata": {
    "scrolled": true
   },
   "outputs": [],
   "source": [
    "import openpyxl\n",
    "import math\n",
    "import io\n",
    "import os\n",
    "import json\n",
    "import calendar\n",
    "\n",
    "import pandas as pd\n",
    "import numpy as np\n",
    "\n",
    "import csv\n",
    "from csv import DictReader\n",
    "from openpyxl import Workbook, load_workbook\n",
    "from datetime import date, datetime\n",
    "from pathlib import Path\n",
    "from itertools import chain\n",
    "import matplotlib.pyplot as plt"
   ]
  },
  {
   "cell_type": "code",
   "execution_count": 2,
   "id": "6a794560",
   "metadata": {},
   "outputs": [],
   "source": [
    "# first_fiscal = \"2023-01-01\"\n",
    "# last_fiscal = \"2023-12-31\""
   ]
  },
  {
   "cell_type": "code",
   "execution_count": 3,
   "id": "090cedfa",
   "metadata": {},
   "outputs": [],
   "source": [
    "%load_ext autoreload\n",
    "%autoreload 2"
   ]
  },
  {
   "cell_type": "markdown",
   "id": "13257938",
   "metadata": {},
   "source": [
    "## Github Link\n",
    "\n",
    "To view the repository, click the link here: https://github.com/Aaron-M-R/Budget"
   ]
  },
  {
   "cell_type": "markdown",
   "id": "dbaca321",
   "metadata": {},
   "source": [
    "## Purpose\n",
    "After having a bank account for quite some time, I decided to keep better track of my spending. While many people either manually look at every charge in their card's history or don't look at all, I wanted to automatically sort my spending and sum the charges based on category. I then created this project in order to do just that. I focused mainly on finding a way to see how much money I spent on food or on transportation and also keep track of my income. I also wanted to easily visualize my spending over time. This program can do all of that.\n",
    "\n",
    "\n",
    "## Instructions\n",
    "First, make sure you have cloned the respository called Budget (click [here](https://github.com/Aaron-M-R/Budget) to access). Then, add a spreadsheet of your spending as an excel workbook to the repo. The columns of the spreadsheet should be in the following order: date, status, type, check number, description, withdrawal, deposit, running balance. You should now be able to either run the program (titled BudgeJudy.py) in a terminal or open and run the jupyter notebook (titled BudgetRunner.ipynb) remotely on your machine. Restarting the kernel and running all of the cells in the notebook will first run the python program, and then provide some additional visualizations.\n",
    "\n",
    "\n",
    "## Use\n",
    "Enter the name of your excel workbook, pick the range of dates you want to analyze and enter their day, month and year separately. Then, enter what you want the title of your new sheet you to be. The program will then update the excel workbook by making opening a new sheet and filling it with you spending per month on each category. The program then creates a bar plot of total spending on each category and subcategory. Finally, you will be asked if you want to visualize your spending over time, where the program can create a lineplot showing the progression of your spending per month on some or all of the categories of interest. \n"
   ]
  },
  {
   "cell_type": "code",
   "execution_count": null,
   "id": "556cf61e",
   "metadata": {},
   "outputs": [
    {
     "name": "stdout",
     "output_type": "stream",
     "text": [
      "To begin, enter the name of your excel workbook.\n"
     ]
    }
   ],
   "source": [
    "from BudgeJudy import *"
   ]
  },
  {
   "cell_type": "markdown",
   "id": "44e9e4de",
   "metadata": {},
   "source": [
    "### Read in spreadsheet from data folder"
   ]
  },
  {
   "cell_type": "code",
   "execution_count": null,
   "id": "20304e1e",
   "metadata": {
    "scrolled": true
   },
   "outputs": [],
   "source": [
    "df.head()"
   ]
  },
  {
   "cell_type": "code",
   "execution_count": null,
   "id": "2b1b5a5d",
   "metadata": {},
   "outputs": [],
   "source": [
    "totals"
   ]
  },
  {
   "cell_type": "markdown",
   "id": "09d7feab",
   "metadata": {},
   "source": [
    "### For updating categories"
   ]
  },
  {
   "cell_type": "code",
   "execution_count": null,
   "id": "9e958d19",
   "metadata": {},
   "outputs": [],
   "source": [
    "# Upload categories, subcategories and codes as JSON object to file\n",
    "\n",
    "# path = Path(\"Data\") / \"category_descriptions.json\"\n",
    "# with open(path, \"w\") as outfile: \n",
    "#     json.dump(categories, outfile)"
   ]
  },
  {
   "cell_type": "code",
   "execution_count": null,
   "id": "92e1f00b",
   "metadata": {},
   "outputs": [],
   "source": [
    "# Read in category descriptions of charges\n",
    "\n",
    "# filepath = Path('Data') / 'category_descriptions.json'\n",
    "# categories = json.loads(filepath.read_text())\n",
    "# categories"
   ]
  },
  {
   "cell_type": "code",
   "execution_count": null,
   "id": "fec627b7",
   "metadata": {},
   "outputs": [],
   "source": []
  },
  {
   "cell_type": "code",
   "execution_count": null,
   "id": "6df70238",
   "metadata": {},
   "outputs": [],
   "source": [
    "import numpy as np\n",
    "import pandas as pd\n",
    "import matplotlib.pyplot as plt"
   ]
  },
  {
   "cell_type": "code",
   "execution_count": null,
   "id": "f435a8cc",
   "metadata": {},
   "outputs": [],
   "source": [
    "def generator(d):\n",
    "    points = list()\n",
    "    for _ in np.arange(1000):\n",
    "        points.append(np.random.uniform(low=-1, high=1, size=d))\n",
    "    closest = pd.Series(points).apply(lambda x: (x**2).sum()).min()\n",
    "    furthest = pd.Series(points).apply(lambda x: (x**2).sum()).max()\n",
    "    return closest, furthest"
   ]
  },
  {
   "cell_type": "code",
   "execution_count": null,
   "id": "e064424c",
   "metadata": {},
   "outputs": [],
   "source": [
    "nums = pd.Series(2**np.arange(20))\n",
    "mins = list()\n",
    "maxs = list()\n",
    "\n",
    "for i in nums:\n",
    "    closest, furthest = generator(i)\n",
    "    mins.append(closest)\n",
    "    maxs.append(furthest)"
   ]
  },
  {
   "cell_type": "code",
   "execution_count": null,
   "id": "1eb1aa14",
   "metadata": {},
   "outputs": [],
   "source": [
    "plt.plot(mins)\n",
    "plt.show()"
   ]
  },
  {
   "cell_type": "code",
   "execution_count": null,
   "id": "a5728928",
   "metadata": {},
   "outputs": [],
   "source": [
    "plt.plot(pd.Series(maxs)/pd.Series(mins))\n",
    "plt.show()"
   ]
  },
  {
   "cell_type": "code",
   "execution_count": null,
   "id": "2bd08332",
   "metadata": {},
   "outputs": [],
   "source": []
  },
  {
   "cell_type": "code",
   "execution_count": null,
   "id": "ae8e663f",
   "metadata": {},
   "outputs": [],
   "source": []
  },
  {
   "cell_type": "markdown",
   "id": "cab4796e",
   "metadata": {},
   "source": [
    "```\n",
    "BEGIN ASSIGNMENT\n",
    "init_cell: false\n",
    "export_cell: false\n",
    "check_all_cell: false\n",
    "files:\n",
    "    - data\n",
    "    - images\n",
    "\n",
    "requirements: ../../../requirements.txt\n",
    "\n",
    "generate:\n",
    "    show_hidden: true\n",
    "```"
   ]
  },
  {
   "cell_type": "markdown",
   "id": "3631400d",
   "metadata": {},
   "source": [
    "# Homework 1: Basic Python, Arrays, and DataFrames\n",
    "\n",
    "## Due Thursday, January 25th at 11:59PM\n",
    "\n",
    "Welcome to Homework 1! This week's homework will cover basic Python, arrays, and DataFrames. You can find additional help on these topics in [Chapter 1](https://www.inferentialthinking.com/chapters/01/what-is-data-science.html) of Computational and Inferential Thinking and [BPD 1-11](https://notes.dsc10.com/01-getting_started/tools.html) in the `babypandas` notes.\n"
   ]
  },
  {
   "cell_type": "markdown",
   "id": "9d57213c",
   "metadata": {},
   "source": [
    "### Instructions\n",
    "\n",
    "Remember to start early and submit often. You are given six slip days throughout the quarter to extend deadlines. See the syllabus for more details. With the exception of using slip days, late work will not be accepted unless you have made special arrangements with your instructor.\n",
    "\n",
    "**Important**: For homeworks, the `otter` tests don't usually tell you that your answer is correct. More often, they help catch careless mistakes. It's up to you to ensure that your answer is correct. If you're not sure, ask someone (not for the answer, but for some guidance about your approach). These are great questions for office hours (the schedule can be found [here](https://dsc10.com/calendar)) or Ed. Directly sharing answers is not okay, but discussing problems with the course staff or with other students is encouraged. "
   ]
  },
  {
   "cell_type": "code",
   "execution_count": null,
   "id": "b23ae5bd",
   "metadata": {},
   "outputs": [],
   "source": [
    "# Please don't change this cell, but do make sure to run it.\n",
    "import babypandas as bpd\n",
    "import matplotlib.pyplot as plt\n",
    "import numpy as np\n",
    "import otter\n",
    "grader = otter.Notebook()\n",
    "\n",
    "plt.style.use('ggplot')"
   ]
  },
  {
   "cell_type": "markdown",
   "id": "6db97f74",
   "metadata": {},
   "source": [
    "<!-- END QUESTION -->\n",
    "\n",
    "\n",
    "\n",
    "## 1. The Three Musketeers vs. Les Trois Mousquetaires\n"
   ]
  },
  {
   "cell_type": "markdown",
   "id": "1a97f290",
   "metadata": {},
   "source": [
    "In Lecture 1, we counted the number of times that the characters Amy, Beth, Jo, Meg, and Laurie were named in each chapter of the classic book, Little Women. In programming, the word \"character\" also refers to a single element of a string. For instance, the string `\"3 zebras!\"` has 9 characters – `\"3\"`, `\" \"`, `\"z\"`, `\"e\"`, `\"b\"`, `\"r\"`, `\"a\"`, `\"s\"`, and `\"!\"`. \n",
    "\n",
    "Let's use this concept to see if *The Three Musketeers* has longer sentences in English or the original French. \n",
    "\n",
    "The following code generates a scatter plot in which each dot corresponds to a chapter of another classic book,  Oliver Twist by Charles Dickens. The horizontal position of a dot measures the number of periods in the chapter. The vertical position measures the total number of characters in that chapter."
   ]
  },
  {
   "cell_type": "code",
   "execution_count": null,
   "id": "6efb8f4e",
   "metadata": {},
   "outputs": [],
   "source": [
    "# This cell contains code that hasn't yet been covered in the course.\n",
    "# It isn't expected that you'll understand the code, but you should be able to \n",
    "# interpret the scatter plot it generates.\n",
    "\n",
    "import numpy as np\n",
    "import matplotlib.pyplot as plt\n",
    "\n",
    "plt.style.use('fivethirtyeight')\n",
    "\n",
    "eng_file = \"./data/The_Three_Musketeers.txt\"\n",
    "fre_file = \"./data/Les_Trois_Mousquetaires.txt\"\n",
    "\n",
    "eng_chapters = open(eng_file, encoding=\"utf-8\").read().split('Chapter ')[67:]\n",
    "fre_chapters = open(fre_file, encoding=\"utf-8\").read().split('CHAPITRE ')[67:]\n",
    "\n",
    "eng_periods = np.char.count(eng_chapters, '.')\n",
    "fre_periods = np.char.count(fre_chapters, '.')\n",
    "\n",
    "eng_chars = [len(c) for c in eng_chapters]\n",
    "fre_chars = [len(c) for c in fre_chapters]\n",
    "\n",
    "plt.scatter(eng_periods, eng_chars, color='b')\n",
    "plt.scatter(fre_periods, fre_chars, color='g')\n",
    "plt.xlabel('Periods')\n",
    "plt.ylabel('Characters')\n",
    "plt.legend({'English', 'French'})\n",
    "plt.axis([0, 450, 0, 45000]); "
   ]
  },
  {
   "cell_type": "markdown",
   "id": "b1e1eeb0",
   "metadata": {},
   "source": [
    "**Question 1.1.** How many periods are in the **English** chapter with the greatest number of characters? Assign either 1, 2, 3, 4, or 5 to the name `longest_English` below.\n",
    "\n",
    "1. 35\n",
    "2. 353\n",
    "3. 400\n",
    "4. 403\n",
    "5. 37503"
   ]
  },
  {
   "cell_type": "markdown",
   "id": "ea115271",
   "metadata": {},
   "source": [
    "```\n",
    "BEGIN QUESTION\n",
    "name: q1_1\n",
    "```"
   ]
  },
  {
   "cell_type": "code",
   "execution_count": null,
   "id": "369c184b",
   "metadata": {
    "tags": []
   },
   "outputs": [],
   "source": [
    "longest_English = 4 # Solution"
   ]
  },
  {
   "cell_type": "code",
   "execution_count": null,
   "id": "039450c8",
   "metadata": {
    "tags": []
   },
   "outputs": [],
   "source": [
    "## TEST ##\n",
    "longest_English in [1,2,3,4,5]"
   ]
  },
  {
   "cell_type": "code",
   "execution_count": null,
   "id": "ffb58783",
   "metadata": {
    "tags": []
   },
   "outputs": [],
   "source": [
    "## HIDDEN TEST ##\n",
    "longest_English == 4"
   ]
  },
  {
   "cell_type": "markdown",
   "id": "559cdee8",
   "metadata": {},
   "source": [
    "**Question 1.2.** How many characters are in the **French** chapter with the most periods? Assign either 1, 2, 3, 4, or 5 to the name `longest_French` below.\n",
    "\n",
    "1. 332\n",
    "2. 357\n",
    "3. 387\n",
    "4. 397\n",
    "5. 407\n"
   ]
  },
  {
   "cell_type": "markdown",
   "id": "06965474",
   "metadata": {},
   "source": [
    "```\n",
    "BEGIN QUESTION\n",
    "name: q1_2\n",
    "```"
   ]
  },
  {
   "cell_type": "code",
   "execution_count": null,
   "id": "bc6a4d1f",
   "metadata": {},
   "outputs": [],
   "source": [
    "longest_French = 1 # Solution"
   ]
  },
  {
   "cell_type": "code",
   "execution_count": null,
   "id": "3530c7f2",
   "metadata": {
    "tags": []
   },
   "outputs": [],
   "source": [
    "## TEST ##\n",
    "longest_French in [1, 2, 3, 4, 5]"
   ]
  },
  {
   "cell_type": "code",
   "execution_count": null,
   "id": "67fc51ba",
   "metadata": {
    "tags": []
   },
   "outputs": [],
   "source": [
    "## HIDDEN TEST ##\n",
    "longest_French == 1"
   ]
  },
  {
   "cell_type": "markdown",
   "id": "61649336",
   "metadata": {},
   "source": [
    "**Question 1.3.** Which of the following is closest to the average number of characters per period in the **English** version of *The Three Musketeers*? Assign either 1, 2, 3, 4, or 5 to the name `chars_per_period_English` below.\n",
    "\n",
    "1. 50\n",
    "2. 100\n",
    "3. 150\n",
    "4. 200\n",
    "5. 250\n"
   ]
  },
  {
   "cell_type": "markdown",
   "id": "1a655191",
   "metadata": {},
   "source": [
    "```\n",
    "BEGIN QUESTION\n",
    "name: q1_3\n",
    "```"
   ]
  },
  {
   "cell_type": "code",
   "execution_count": null,
   "id": "40964013",
   "metadata": {},
   "outputs": [],
   "source": [
    "chars_per_period_English = 2 # Solution"
   ]
  },
  {
   "cell_type": "code",
   "execution_count": null,
   "id": "29fc4ac6",
   "metadata": {},
   "outputs": [],
   "source": [
    "## TEST ##\n",
    "chars_per_period_English in [1, 2, 3, 4, 5]"
   ]
  },
  {
   "cell_type": "code",
   "execution_count": null,
   "id": "8bad04b9",
   "metadata": {},
   "outputs": [],
   "source": [
    "## HIDDEN TEST ##\n",
    "chars_per_period_English == 2"
   ]
  },
  {
   "cell_type": "markdown",
   "id": "3bfb6337",
   "metadata": {},
   "source": [
    "**Question 1.4.** Which of the following is closest to the average number of characters per period in the **English** version of *The Three Musketeers*? Assign either 1, 2, 3, 4, or 5 to the name `characters_q2` below.\n",
    "\n",
    "1. 50\n",
    "2. 100\n",
    "3. 150\n",
    "4. 200\n",
    "5. 250\n"
   ]
  },
  {
   "cell_type": "markdown",
   "id": "62fd880b",
   "metadata": {},
   "source": [
    "```\n",
    "BEGIN QUESTION\n",
    "name: q1_4\n",
    "```"
   ]
  },
  {
   "cell_type": "code",
   "execution_count": null,
   "id": "e7b9dd34",
   "metadata": {},
   "outputs": [],
   "source": [
    "chars_per_period_English = 2 # Solution"
   ]
  },
  {
   "cell_type": "code",
   "execution_count": null,
   "id": "c3c9ad89",
   "metadata": {},
   "outputs": [],
   "source": [
    "## TEST ##\n",
    "chars_per_period_English in [1, 2, 3, 4, 5]"
   ]
  },
  {
   "cell_type": "code",
   "execution_count": null,
   "id": "9c5af5e3",
   "metadata": {},
   "outputs": [],
   "source": [
    "## HIDDEN TEST ##\n",
    "chars_per_period_English == 2"
   ]
  },
  {
   "cell_type": "markdown",
   "id": "506fb78e",
   "metadata": {},
   "source": [
    "**Question 1.5.** Which version of *The Three Musketeers* has a higher ratio of characters per period? Assign either 1 or 2 to the name `higher_ratio` below.\n",
    "\n",
    "1. French\n",
    "2. English\n"
   ]
  },
  {
   "cell_type": "markdown",
   "id": "a5021ecf",
   "metadata": {},
   "source": [
    "```\n",
    "BEGIN QUESTION\n",
    "name: q1_5\n",
    "```"
   ]
  },
  {
   "cell_type": "code",
   "execution_count": null,
   "id": "e53b95af",
   "metadata": {},
   "outputs": [],
   "source": [
    "higher_ratio = 1 # Solution"
   ]
  },
  {
   "cell_type": "code",
   "execution_count": null,
   "id": "d378bbfa",
   "metadata": {},
   "outputs": [],
   "source": [
    "## TEST ##\n",
    "higher_ratio in [1,2]"
   ]
  },
  {
   "cell_type": "code",
   "execution_count": null,
   "id": "b7f08135",
   "metadata": {},
   "outputs": [],
   "source": [
    "## HIDDEN TEST ##\n",
    "higher_ratio == 1"
   ]
  },
  {
   "cell_type": "code",
   "execution_count": null,
   "id": "de63cb13",
   "metadata": {
    "deletable": false,
    "editable": false
   },
   "outputs": [],
   "source": [
    "grader.check(\"q23\")"
   ]
  },
  {
   "cell_type": "markdown",
   "id": "20d29c3e",
   "metadata": {},
   "source": [
    "The tests for this section only check that you've set each variable to a number 1 through 5. Unlike in labs, tests in homeworks **do not** check that you answered correctly; they only check that your answer is *reasonable*, or in the correct format. To put it another way: all of your tests might pass, but that doesn't mean you'll get full credit -- some of your answers may still be wrong. It's up to you to make sure that they're right!"
   ]
  }
 ],
 "metadata": {
  "kernelspec": {
   "display_name": "Python 3 (ipykernel)",
   "language": "python",
   "name": "python3"
  },
  "language_info": {
   "codemirror_mode": {
    "name": "ipython",
    "version": 3
   },
   "file_extension": ".py",
   "mimetype": "text/x-python",
   "name": "python",
   "nbconvert_exporter": "python",
   "pygments_lexer": "ipython3",
   "version": "3.11.5"
  }
 },
 "nbformat": 4,
 "nbformat_minor": 5
}
