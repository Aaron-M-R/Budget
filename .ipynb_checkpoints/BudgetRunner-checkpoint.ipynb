{
 "cells": [
  {
   "cell_type": "markdown",
   "id": "b9a6693d",
   "metadata": {},
   "source": [
    "# Budget Runner"
   ]
  },
  {
   "cell_type": "code",
   "execution_count": null,
   "id": "07bb1fcf",
   "metadata": {
    "scrolled": true
   },
   "outputs": [],
   "source": [
    "import openpyxl\n",
    "import math\n",
    "import io\n",
    "import os\n",
    "import json\n",
    "import calendar\n",
    "\n",
    "import pandas as pd\n",
    "import numpy as np\n",
    "\n",
    "import csv\n",
    "from csv import DictReader\n",
    "from openpyxl import Workbook, load_workbook\n",
    "from datetime import date, datetime\n",
    "from pathlib import Path\n",
    "from itertools import chain\n",
    "import matplotlib.pyplot as plt"
   ]
  },
  {
   "cell_type": "markdown",
   "id": "82a2058b",
   "metadata": {},
   "source": [
    "## Github Link\n",
    "\n",
    "To view the repository, click the link here: https://github.com/Aaron-M-R/Budget"
   ]
  },
  {
   "cell_type": "markdown",
   "id": "5fcfb921",
   "metadata": {},
   "source": [
    "## Purpose\n",
    "After having a bank account for quite some time, I decided to keep better track of my spending. While many people either manually look at every charge in their card's history or don't look at all, I wanted to automatically sort my spending and sum the charges based on category. I then created this project in order to do just that. I focused mainly on finding a way to see how much money I spent on food or on transportation and also keep track of my income. I also wanted to easily visualize my spending over time. This program can do all of that.\n",
    "\n",
    "\n",
    "## Instructions\n",
    "First, make sure you have cloned the respository called Budget (click [here](https://github.com/Aaron-M-R/Budget) to access). Then, add a spreadsheet of your spending as an excel workbook to the repo. The columns of the spreadsheet should be in the following order: date, status, type, check number, description, withdrawal, deposit, running balance. You should now be able to either run the program (titled BudgeJudy.py) in a terminal or open and run the jupyter notebook (titled BudgetRunner.ipynb) remotely on your machine. Restarting the kernel and running all of the cells in the notebook will first run the python program, and then provide some additional visualizations.\n",
    "\n",
    "\n",
    "## Use\n",
    "Enter the name of your excel workbook, pick the range of dates you want to analyze and enter their day, month and year separately. Then, enter what you want the title of your new sheet you to be. The program will then update the excel workbook by making opening a new sheet and filling it with you spending per month on each category. The program then creates a bar plot of total spending on each category and subcategory. Finally, you will be asked if you want to visualize your spending over time, where the program can create a lineplot showing the progression of your spending per month on some or all of the categories of interest. \n"
   ]
  },
  {
   "cell_type": "code",
   "execution_count": null,
   "id": "ef52196a",
   "metadata": {},
   "outputs": [],
   "source": [
    "%load_ext autoreload\n",
    "%autoreload 2"
   ]
  },
  {
   "cell_type": "code",
   "execution_count": null,
   "id": "556cf61e",
   "metadata": {},
   "outputs": [],
   "source": [
    "from BudgeJudy import *"
   ]
  },
  {
   "cell_type": "markdown",
   "id": "44e9e4de",
   "metadata": {},
   "source": [
    "### Read in spreadsheet from data folder"
   ]
  },
  {
   "cell_type": "code",
   "execution_count": null,
   "id": "20304e1e",
   "metadata": {
    "scrolled": true
   },
   "outputs": [],
   "source": [
    "df.head()"
   ]
  },
  {
   "cell_type": "code",
   "execution_count": null,
   "id": "9baa4022",
   "metadata": {},
   "outputs": [],
   "source": [
    "totals.head()"
   ]
  },
  {
   "cell_type": "markdown",
   "id": "09d7feab",
   "metadata": {},
   "source": [
    "### For updating categories"
   ]
  },
  {
   "cell_type": "code",
   "execution_count": null,
   "id": "9e958d19",
   "metadata": {},
   "outputs": [],
   "source": [
    "# Upload categories, subcategories and codes as JSON object to file\n",
    "\n",
    "# path = Path(\"Data\") / \"category_descriptions.json\"\n",
    "# with open(path, \"w\") as outfile: \n",
    "#     json.dump(categories, outfile)"
   ]
  },
  {
   "cell_type": "code",
   "execution_count": null,
   "id": "cd0f804c",
   "metadata": {},
   "outputs": [],
   "source": [
    "# Read in category descriptions of charges\n",
    "\n",
    "# filepath = Path('Data') / 'category_descriptions.json'\n",
    "# categories = json.loads(filepath.read_text())\n",
    "# categories"
   ]
  }
 ],
 "metadata": {
  "kernelspec": {
   "display_name": "Python 3 (ipykernel)",
   "language": "python",
   "name": "python3"
  },
  "language_info": {
   "codemirror_mode": {
    "name": "ipython",
    "version": 3
   },
   "file_extension": ".py",
   "mimetype": "text/x-python",
   "name": "python",
   "nbconvert_exporter": "python",
   "pygments_lexer": "ipython3",
   "version": "3.11.5"
  }
 },
 "nbformat": 4,
 "nbformat_minor": 5
}
