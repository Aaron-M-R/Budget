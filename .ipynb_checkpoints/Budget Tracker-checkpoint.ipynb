{
 "cells": [
  {
   "cell_type": "markdown",
   "id": "1bf29ff9",
   "metadata": {},
   "source": [
    "### Import necessary packages"
   ]
  },
  {
   "cell_type": "code",
   "execution_count": 1,
   "id": "07bb1fcf",
   "metadata": {
    "scrolled": true
   },
   "outputs": [],
   "source": [
    "import openpyxl\n",
    "import math\n",
    "import io\n",
    "import os\n",
    "import json\n",
    "\n",
    "import pandas as pd\n",
    "import numpy as np\n",
    "\n",
    "import csv\n",
    "from csv import DictReader\n",
    "from openpyxl import Workbook, load_workbook\n",
    "from datetime import date, datetime\n",
    "from pathlib import Path"
   ]
  },
  {
   "cell_type": "markdown",
   "id": "4dd649ad",
   "metadata": {},
   "source": [
    "# Github Link\n",
    "\n",
    "### To view the source code for this project, click the link here: https://github.com/Aaron-M-R\n",
    "\n",
    "### To use the program, run the cells below and fill in the necessary information"
   ]
  },
  {
   "cell_type": "code",
   "execution_count": 2,
   "id": "ef52196a",
   "metadata": {},
   "outputs": [],
   "source": [
    "%load_ext autoreload\n",
    "%autoreload 2"
   ]
  },
  {
   "cell_type": "code",
   "execution_count": 3,
   "id": "556cf61e",
   "metadata": {},
   "outputs": [
    {
     "name": "stdout",
     "output_type": "stream",
     "text": [
      "Enter the starting date for your budget:\n",
      "Starting Year (YYYY)\n",
      "2022\n",
      "Starting Month (MM)\n",
      "8\n",
      "Starting Day (DD)\n",
      "1\n",
      "Enter the ending date for your budget:\n",
      "Do you want to see your spending up to the present? (Y/N)\n",
      "y\n"
     ]
    }
   ],
   "source": [
    "from BudgeJudy import *"
   ]
  },
  {
   "cell_type": "markdown",
   "id": "44e9e4de",
   "metadata": {},
   "source": [
    "### Read in spreadsheet from data folder"
   ]
  },
  {
   "cell_type": "code",
   "execution_count": 4,
   "id": "20304e1e",
   "metadata": {
    "scrolled": true
   },
   "outputs": [
    {
     "data": {
      "text/html": [
       "<div>\n",
       "<style scoped>\n",
       "    .dataframe tbody tr th:only-of-type {\n",
       "        vertical-align: middle;\n",
       "    }\n",
       "\n",
       "    .dataframe tbody tr th {\n",
       "        vertical-align: top;\n",
       "    }\n",
       "\n",
       "    .dataframe thead th {\n",
       "        text-align: right;\n",
       "    }\n",
       "</style>\n",
       "<table border=\"1\" class=\"dataframe\">\n",
       "  <thead>\n",
       "    <tr style=\"text-align: right;\">\n",
       "      <th></th>\n",
       "      <th>Transactions  for Checking account ...296 as of 08/11/2023 09:46:44 AM ET</th>\n",
       "      <th>Unnamed: 1</th>\n",
       "      <th>Unnamed: 2</th>\n",
       "      <th>Unnamed: 3</th>\n",
       "      <th>Unnamed: 4</th>\n",
       "      <th>Unnamed: 5</th>\n",
       "      <th>Unnamed: 6</th>\n",
       "    </tr>\n",
       "  </thead>\n",
       "  <tbody>\n",
       "    <tr>\n",
       "      <th>0</th>\n",
       "      <td>Date</td>\n",
       "      <td>Type</td>\n",
       "      <td>Check #</td>\n",
       "      <td>Description</td>\n",
       "      <td>Withdrawal (-)</td>\n",
       "      <td>Deposit (+)</td>\n",
       "      <td>RunningBalance</td>\n",
       "    </tr>\n",
       "    <tr>\n",
       "      <th>1</th>\n",
       "      <td>Pending Transactions are not reflected within ...</td>\n",
       "      <td>NaN</td>\n",
       "      <td>NaN</td>\n",
       "      <td>NaN</td>\n",
       "      <td>NaN</td>\n",
       "      <td>NaN</td>\n",
       "      <td>NaN</td>\n",
       "    </tr>\n",
       "    <tr>\n",
       "      <th>2</th>\n",
       "      <td>Posted Transactions</td>\n",
       "      <td>NaN</td>\n",
       "      <td>NaN</td>\n",
       "      <td>NaN</td>\n",
       "      <td>NaN</td>\n",
       "      <td>NaN</td>\n",
       "      <td>NaN</td>\n",
       "    </tr>\n",
       "    <tr>\n",
       "      <th>3</th>\n",
       "      <td>2023-07-31 00:00:00</td>\n",
       "      <td>INTADJUST</td>\n",
       "      <td>NaN</td>\n",
       "      <td>Interest Paid</td>\n",
       "      <td>NaN</td>\n",
       "      <td>0.75</td>\n",
       "      <td>2018.15</td>\n",
       "    </tr>\n",
       "    <tr>\n",
       "      <th>4</th>\n",
       "      <td>2023-07-31 00:00:00</td>\n",
       "      <td>ATMREBATE</td>\n",
       "      <td>NaN</td>\n",
       "      <td>ATM Fee Rebate</td>\n",
       "      <td>NaN</td>\n",
       "      <td>2</td>\n",
       "      <td>2017.4</td>\n",
       "    </tr>\n",
       "  </tbody>\n",
       "</table>\n",
       "</div>"
      ],
      "text/plain": [
       "  Transactions  for Checking account ...296 as of 08/11/2023 09:46:44 AM ET  \\\n",
       "0                                               Date                          \n",
       "1  Pending Transactions are not reflected within ...                          \n",
       "2                                Posted Transactions                          \n",
       "3                                2023-07-31 00:00:00                          \n",
       "4                                2023-07-31 00:00:00                          \n",
       "\n",
       "  Unnamed: 1 Unnamed: 2      Unnamed: 3      Unnamed: 4   Unnamed: 5  \\\n",
       "0       Type    Check #     Description  Withdrawal (-)  Deposit (+)   \n",
       "1        NaN        NaN             NaN             NaN          NaN   \n",
       "2        NaN        NaN             NaN             NaN          NaN   \n",
       "3  INTADJUST        NaN   Interest Paid             NaN         0.75   \n",
       "4  ATMREBATE        NaN  ATM Fee Rebate             NaN            2   \n",
       "\n",
       "       Unnamed: 6  \n",
       "0  RunningBalance  \n",
       "1             NaN  \n",
       "2             NaN  \n",
       "3         2018.15  \n",
       "4          2017.4  "
      ]
     },
     "execution_count": 4,
     "metadata": {},
     "output_type": "execute_result"
    }
   ],
   "source": [
    "filepath = Path('Data') / 'PracticeCheckingSheet.xlsx'\n",
    "df = pd.read_excel(filepath)\n",
    "df.head()"
   ]
  },
  {
   "cell_type": "markdown",
   "id": "c0f6f129",
   "metadata": {},
   "source": [
    "### Rename columns"
   ]
  },
  {
   "cell_type": "code",
   "execution_count": 5,
   "id": "110eb4ce",
   "metadata": {},
   "outputs": [
    {
     "data": {
      "text/html": [
       "<div>\n",
       "<style scoped>\n",
       "    .dataframe tbody tr th:only-of-type {\n",
       "        vertical-align: middle;\n",
       "    }\n",
       "\n",
       "    .dataframe tbody tr th {\n",
       "        vertical-align: top;\n",
       "    }\n",
       "\n",
       "    .dataframe thead th {\n",
       "        text-align: right;\n",
       "    }\n",
       "</style>\n",
       "<table border=\"1\" class=\"dataframe\">\n",
       "  <thead>\n",
       "    <tr style=\"text-align: right;\">\n",
       "      <th></th>\n",
       "      <th>Date</th>\n",
       "      <th>Type</th>\n",
       "      <th>Check #</th>\n",
       "      <th>Description</th>\n",
       "      <th>Withdrawal (-)</th>\n",
       "      <th>Deposit (+)</th>\n",
       "      <th>RunningBalance</th>\n",
       "    </tr>\n",
       "  </thead>\n",
       "  <tbody>\n",
       "    <tr>\n",
       "      <th>3</th>\n",
       "      <td>2023-07-31 00:00:00</td>\n",
       "      <td>INTADJUST</td>\n",
       "      <td>NaN</td>\n",
       "      <td>Interest Paid</td>\n",
       "      <td>NaN</td>\n",
       "      <td>0.75</td>\n",
       "      <td>2018.15</td>\n",
       "    </tr>\n",
       "    <tr>\n",
       "      <th>4</th>\n",
       "      <td>2023-07-31 00:00:00</td>\n",
       "      <td>ATMREBATE</td>\n",
       "      <td>NaN</td>\n",
       "      <td>ATM Fee Rebate</td>\n",
       "      <td>NaN</td>\n",
       "      <td>2</td>\n",
       "      <td>2017.4</td>\n",
       "    </tr>\n",
       "    <tr>\n",
       "      <th>5</th>\n",
       "      <td>2023-07-31 00:00:00</td>\n",
       "      <td>VISA</td>\n",
       "      <td>NaN</td>\n",
       "      <td>Peculiar Pub NEW YORK</td>\n",
       "      <td>23.2</td>\n",
       "      <td>NaN</td>\n",
       "      <td>2015.4</td>\n",
       "    </tr>\n",
       "    <tr>\n",
       "      <th>6</th>\n",
       "      <td>2023-07-31 00:00:00</td>\n",
       "      <td>VISA</td>\n",
       "      <td>NaN</td>\n",
       "      <td>GMT TAVERN NEW YORK</td>\n",
       "      <td>23.52</td>\n",
       "      <td>NaN</td>\n",
       "      <td>2038.6</td>\n",
       "    </tr>\n",
       "    <tr>\n",
       "      <th>7</th>\n",
       "      <td>2023-07-30 00:00:00</td>\n",
       "      <td>ATM</td>\n",
       "      <td>NaN</td>\n",
       "      <td>One Abingdon Square Ent NEW YORK</td>\n",
       "      <td>62</td>\n",
       "      <td>NaN</td>\n",
       "      <td>2062.12</td>\n",
       "    </tr>\n",
       "  </tbody>\n",
       "</table>\n",
       "</div>"
      ],
      "text/plain": [
       "                  Date       Type Check #                       Description  \\\n",
       "3  2023-07-31 00:00:00  INTADJUST     NaN                     Interest Paid   \n",
       "4  2023-07-31 00:00:00  ATMREBATE     NaN                    ATM Fee Rebate   \n",
       "5  2023-07-31 00:00:00       VISA     NaN             Peculiar Pub NEW YORK   \n",
       "6  2023-07-31 00:00:00       VISA     NaN               GMT TAVERN NEW YORK   \n",
       "7  2023-07-30 00:00:00        ATM     NaN  One Abingdon Square Ent NEW YORK   \n",
       "\n",
       "  Withdrawal (-) Deposit (+) RunningBalance  \n",
       "3            NaN        0.75        2018.15  \n",
       "4            NaN           2         2017.4  \n",
       "5           23.2         NaN         2015.4  \n",
       "6          23.52         NaN         2038.6  \n",
       "7             62         NaN        2062.12  "
      ]
     },
     "execution_count": 5,
     "metadata": {},
     "output_type": "execute_result"
    }
   ],
   "source": [
    "new_columns = dict(zip(df.columns.values, df.iloc[0]))\n",
    "df = df.rename(columns = new_columns).iloc[3:]\n",
    "df.head()"
   ]
  },
  {
   "cell_type": "markdown",
   "id": "4337aa58",
   "metadata": {},
   "source": [
    "### Create DataFrame for monthly totals"
   ]
  },
  {
   "cell_type": "code",
   "execution_count": 6,
   "id": "77106339",
   "metadata": {},
   "outputs": [],
   "source": [
    "bymonth = pd.DataFrame()"
   ]
  },
  {
   "cell_type": "markdown",
   "id": "09d7feab",
   "metadata": {},
   "source": [
    "### Read in category dictionary"
   ]
  },
  {
   "cell_type": "code",
   "execution_count": 65,
   "id": "cc7a5dd2",
   "metadata": {
    "scrolled": true
   },
   "outputs": [],
   "source": [
    "# Read in category descriptions, totals and monthly totals\n",
    "\n",
    "f = Path('Data') / 'category_descriptions.json'\n",
    "categories = json.loads(f.read_text())\n",
    "\n",
    "f = Path('Data') / 'category_totals.json'\n",
    "totals = json.loads(f.read_text())\n",
    "\n",
    "f = Path('Data') / 'bymonth_totals.json'\n",
    "bymonth_totals = json.loads(f.read_text())"
   ]
  },
  {
   "cell_type": "code",
   "execution_count": 63,
   "id": "986cdddf",
   "metadata": {},
   "outputs": [],
   "source": [
    "# Convert and write JSON objects to files\n",
    "\n",
    "# path = Path(\"Data\") / \"category_descriptions.json\"\n",
    "# with open(path, \"w\") as outfile: \n",
    "#     json.dump(categories, outfile)\n",
    "    \n",
    "# path = Path(\"Data\") / \"category_totals.json\"\n",
    "# with open(path, \"w\") as outfile: \n",
    "#     json.dump(totals, outfile)\n",
    "\n",
    "# path = Path(\"Data\") / \"bymonth_totals.json\"\n",
    "# with open(path, \"w\") as outfile: \n",
    "#     json.dump(bymonth_totals, outfile)"
   ]
  },
  {
   "cell_type": "markdown",
   "id": "8aad8859",
   "metadata": {},
   "source": [
    "### Crop the rows according to desired date range"
   ]
  },
  {
   "cell_type": "markdown",
   "id": "537fb978",
   "metadata": {},
   "source": [
    "### Replace store code in Description column to readable category\n",
    "### "
   ]
  },
  {
   "cell_type": "code",
   "execution_count": 9,
   "id": "1bf63066",
   "metadata": {},
   "outputs": [
    {
     "data": {
      "text/html": [
       "<div>\n",
       "<style scoped>\n",
       "    .dataframe tbody tr th:only-of-type {\n",
       "        vertical-align: middle;\n",
       "    }\n",
       "\n",
       "    .dataframe tbody tr th {\n",
       "        vertical-align: top;\n",
       "    }\n",
       "\n",
       "    .dataframe thead th {\n",
       "        text-align: right;\n",
       "    }\n",
       "</style>\n",
       "<table border=\"1\" class=\"dataframe\">\n",
       "  <thead>\n",
       "    <tr style=\"text-align: right;\">\n",
       "      <th></th>\n",
       "      <th>Date</th>\n",
       "      <th>Type</th>\n",
       "      <th>Check #</th>\n",
       "      <th>Description</th>\n",
       "      <th>Withdrawal (-)</th>\n",
       "      <th>Deposit (+)</th>\n",
       "      <th>RunningBalance</th>\n",
       "    </tr>\n",
       "  </thead>\n",
       "  <tbody>\n",
       "    <tr>\n",
       "      <th>3</th>\n",
       "      <td>2023-07-31 00:00:00</td>\n",
       "      <td>INTADJUST</td>\n",
       "      <td>NaN</td>\n",
       "      <td>Interest Paid</td>\n",
       "      <td>NaN</td>\n",
       "      <td>0.75</td>\n",
       "      <td>2018.15</td>\n",
       "    </tr>\n",
       "    <tr>\n",
       "      <th>4</th>\n",
       "      <td>2023-07-31 00:00:00</td>\n",
       "      <td>ATMREBATE</td>\n",
       "      <td>NaN</td>\n",
       "      <td>ATM Fee Rebate</td>\n",
       "      <td>NaN</td>\n",
       "      <td>2</td>\n",
       "      <td>2017.4</td>\n",
       "    </tr>\n",
       "    <tr>\n",
       "      <th>5</th>\n",
       "      <td>2023-07-31 00:00:00</td>\n",
       "      <td>VISA</td>\n",
       "      <td>NaN</td>\n",
       "      <td>Peculiar Pub NEW YORK</td>\n",
       "      <td>23.2</td>\n",
       "      <td>NaN</td>\n",
       "      <td>2015.4</td>\n",
       "    </tr>\n",
       "    <tr>\n",
       "      <th>6</th>\n",
       "      <td>2023-07-31 00:00:00</td>\n",
       "      <td>VISA</td>\n",
       "      <td>NaN</td>\n",
       "      <td>GMT TAVERN NEW YORK</td>\n",
       "      <td>23.52</td>\n",
       "      <td>NaN</td>\n",
       "      <td>2038.6</td>\n",
       "    </tr>\n",
       "    <tr>\n",
       "      <th>7</th>\n",
       "      <td>2023-07-30 00:00:00</td>\n",
       "      <td>ATM</td>\n",
       "      <td>NaN</td>\n",
       "      <td>One Abingdon Square Ent NEW YORK</td>\n",
       "      <td>62</td>\n",
       "      <td>NaN</td>\n",
       "      <td>2062.12</td>\n",
       "    </tr>\n",
       "    <tr>\n",
       "      <th>...</th>\n",
       "      <td>...</td>\n",
       "      <td>...</td>\n",
       "      <td>...</td>\n",
       "      <td>...</td>\n",
       "      <td>...</td>\n",
       "      <td>...</td>\n",
       "      <td>...</td>\n",
       "    </tr>\n",
       "    <tr>\n",
       "      <th>383</th>\n",
       "      <td>2022-07-04 00:00:00</td>\n",
       "      <td>DEPOSIT</td>\n",
       "      <td>NaN</td>\n",
       "      <td>Deposit Mobile Banking</td>\n",
       "      <td>NaN</td>\n",
       "      <td>565</td>\n",
       "      <td>1071.32</td>\n",
       "    </tr>\n",
       "    <tr>\n",
       "      <th>384</th>\n",
       "      <td>2022-07-02 00:00:00</td>\n",
       "      <td>DEPOSIT</td>\n",
       "      <td>NaN</td>\n",
       "      <td>Deposit Mobile Banking</td>\n",
       "      <td>NaN</td>\n",
       "      <td>200</td>\n",
       "      <td>506.32</td>\n",
       "    </tr>\n",
       "    <tr>\n",
       "      <th>385</th>\n",
       "      <td>2022-06-30 00:00:00</td>\n",
       "      <td>INTADJUST</td>\n",
       "      <td>NaN</td>\n",
       "      <td>Interest Paid</td>\n",
       "      <td>NaN</td>\n",
       "      <td>NaN</td>\n",
       "      <td>306.32</td>\n",
       "    </tr>\n",
       "    <tr>\n",
       "      <th>386</th>\n",
       "      <td>2022-06-29 00:00:00</td>\n",
       "      <td>ACH</td>\n",
       "      <td>NaN</td>\n",
       "      <td>ADVANTAGE WORKFO DIRECT DEP SD1700</td>\n",
       "      <td>NaN</td>\n",
       "      <td>125.32</td>\n",
       "      <td>306.32</td>\n",
       "    </tr>\n",
       "    <tr>\n",
       "      <th>387</th>\n",
       "      <td>2022-06-25 00:00:00</td>\n",
       "      <td>DEPOSIT</td>\n",
       "      <td>NaN</td>\n",
       "      <td>Deposit Mobile Banking</td>\n",
       "      <td>NaN</td>\n",
       "      <td>181</td>\n",
       "      <td>181</td>\n",
       "    </tr>\n",
       "  </tbody>\n",
       "</table>\n",
       "<p>385 rows × 7 columns</p>\n",
       "</div>"
      ],
      "text/plain": [
       "                    Date       Type Check #  \\\n",
       "3    2023-07-31 00:00:00  INTADJUST     NaN   \n",
       "4    2023-07-31 00:00:00  ATMREBATE     NaN   \n",
       "5    2023-07-31 00:00:00       VISA     NaN   \n",
       "6    2023-07-31 00:00:00       VISA     NaN   \n",
       "7    2023-07-30 00:00:00        ATM     NaN   \n",
       "..                   ...        ...     ...   \n",
       "383  2022-07-04 00:00:00    DEPOSIT     NaN   \n",
       "384  2022-07-02 00:00:00    DEPOSIT     NaN   \n",
       "385  2022-06-30 00:00:00  INTADJUST     NaN   \n",
       "386  2022-06-29 00:00:00        ACH     NaN   \n",
       "387  2022-06-25 00:00:00    DEPOSIT     NaN   \n",
       "\n",
       "                            Description Withdrawal (-) Deposit (+)  \\\n",
       "3                         Interest Paid            NaN        0.75   \n",
       "4                        ATM Fee Rebate            NaN           2   \n",
       "5                 Peculiar Pub NEW YORK           23.2         NaN   \n",
       "6                   GMT TAVERN NEW YORK          23.52         NaN   \n",
       "7      One Abingdon Square Ent NEW YORK             62         NaN   \n",
       "..                                  ...            ...         ...   \n",
       "383              Deposit Mobile Banking            NaN         565   \n",
       "384              Deposit Mobile Banking            NaN         200   \n",
       "385                       Interest Paid            NaN         NaN   \n",
       "386  ADVANTAGE WORKFO DIRECT DEP SD1700            NaN      125.32   \n",
       "387              Deposit Mobile Banking            NaN         181   \n",
       "\n",
       "    RunningBalance  \n",
       "3          2018.15  \n",
       "4           2017.4  \n",
       "5           2015.4  \n",
       "6           2038.6  \n",
       "7          2062.12  \n",
       "..             ...  \n",
       "383        1071.32  \n",
       "384         506.32  \n",
       "385         306.32  \n",
       "386         306.32  \n",
       "387            181  \n",
       "\n",
       "[385 rows x 7 columns]"
      ]
     },
     "execution_count": 9,
     "metadata": {},
     "output_type": "execute_result"
    }
   ],
   "source": [
    "df"
   ]
  },
  {
   "cell_type": "code",
   "execution_count": 10,
   "id": "61210bc6",
   "metadata": {},
   "outputs": [],
   "source": [
    "# Returns date in MM-DD-YYYY format\n",
    "def dater(date):\n",
    "    day = datetime.strptime(str(date)[:10], \"%Y-%m-%d\")\n",
    "    return day"
   ]
  },
  {
   "cell_type": "code",
   "execution_count": 11,
   "id": "384d3137",
   "metadata": {},
   "outputs": [],
   "source": [
    "df['Date'] = df['Date'].apply(dater)"
   ]
  },
  {
   "cell_type": "markdown",
   "id": "1bc19c4f",
   "metadata": {},
   "source": [
    "### Combine Deposit and Withdrawal columns into one Amount column"
   ]
  },
  {
   "cell_type": "code",
   "execution_count": 12,
   "id": "0efe3c27",
   "metadata": {},
   "outputs": [],
   "source": [
    "# Combines withdrawal and deposit columns into one 'amount' column\n",
    "def amount(df):\n",
    "    if not math.isnan(df[4]):\n",
    "        return -df[4]\n",
    "    if not math.isnan(df[5]):\n",
    "        return df[5]\n",
    "    else:\n",
    "        return 0"
   ]
  },
  {
   "cell_type": "code",
   "execution_count": 13,
   "id": "20082bfa",
   "metadata": {},
   "outputs": [],
   "source": [
    "df['Amount'] = df.apply(amount, axis=1)"
   ]
  },
  {
   "cell_type": "markdown",
   "id": "04eb084e",
   "metadata": {},
   "source": [
    "### Select date range given earlier"
   ]
  },
  {
   "cell_type": "code",
   "execution_count": 15,
   "id": "91fd6e87",
   "metadata": {},
   "outputs": [],
   "source": [
    "def date_range(date):\n",
    "    start = pd.to_datetime(first_fiscal, format=\"%Y-%m-%d\")\n",
    "    end = pd.to_datetime(last_fiscal, format=\"%Y-%m-%d\")\n",
    "    this = pd.to_datetime(date, format=\"%Y-%m-%d\")\n",
    "    return (end-this).days>=0 and (this-start).days>=0"
   ]
  },
  {
   "cell_type": "code",
   "execution_count": 16,
   "id": "20c2020f",
   "metadata": {
    "scrolled": true
   },
   "outputs": [],
   "source": [
    "df = df[df['Date'].apply(date_range)]"
   ]
  },
  {
   "cell_type": "code",
   "execution_count": null,
   "id": "b0b97544",
   "metadata": {},
   "outputs": [],
   "source": []
  },
  {
   "cell_type": "code",
   "execution_count": 21,
   "id": "2b052460",
   "metadata": {},
   "outputs": [],
   "source": [
    "new_columns = ['Date', 'Category', 'Subcategory', 'Store', 'Amount', 'Remaining Balance']"
   ]
  },
  {
   "cell_type": "code",
   "execution_count": 22,
   "id": "9445584a",
   "metadata": {},
   "outputs": [
    {
     "ename": "NameError",
     "evalue": "name 'newsheet' is not defined",
     "output_type": "error",
     "traceback": [
      "\u001b[0;31m---------------------------------------------------------------------------\u001b[0m",
      "\u001b[0;31mNameError\u001b[0m                                 Traceback (most recent call last)",
      "Cell \u001b[0;32mIn[22], line 19\u001b[0m\n\u001b[1;32m     17\u001b[0m \u001b[38;5;66;03m# Loop through each subcategory to record names\u001b[39;00m\n\u001b[1;32m     18\u001b[0m \u001b[38;5;28;01mfor\u001b[39;00m subcategory \u001b[38;5;129;01min\u001b[39;00m category[\u001b[38;5;241m1\u001b[39m]\u001b[38;5;241m.\u001b[39mkeys():\n\u001b[0;32m---> 19\u001b[0m     newsheet[col_letter \u001b[38;5;241m+\u001b[39m \u001b[38;5;28mstr\u001b[39m(row_number)] \u001b[38;5;241m=\u001b[39m subcategory\n\u001b[1;32m     20\u001b[0m     row_number \u001b[38;5;241m+\u001b[39m\u001b[38;5;241m=\u001b[39m \u001b[38;5;241m1\u001b[39m\n\u001b[1;32m     22\u001b[0m \u001b[38;5;66;03m# move to next column and start at top\u001b[39;00m\n",
      "\u001b[0;31mNameError\u001b[0m: name 'newsheet' is not defined"
     ]
    }
   ],
   "source": [
    "\n",
    "\n",
    "####### Statistics ##########\n",
    "\n",
    "col_number = 72\n",
    "col_letter = chr(col_number)\n",
    "\n",
    "for category in totals.items():\n",
    "\n",
    "    row_number = 10\n",
    "    category_total = 0\n",
    "\n",
    "    # account for excel's switch from Z to AA\n",
    "    if col_number > 90:\n",
    "        col_letter = 'A' + chr(col_number - 26)\n",
    "    else:\n",
    "        col_letter = chr(col_number)\n",
    "\n",
    "    # Loop through each subcategory to record names\n",
    "    for subcategory in category[1].keys():\n",
    "        newsheet[col_letter + str(row_number)] = subcategory\n",
    "        row_number += 1\n",
    "\n",
    "    # move to next column and start at top\n",
    "    col_number += 1\n",
    "    row_number = 10\n",
    "\n",
    "    # account for excel's switch from Z to AA\n",
    "    if col_number > 90:\n",
    "        col_letter = 'A' + chr(col_number - 26)\n",
    "    else:\n",
    "        col_letter = chr(col_number)\n",
    "\n",
    "    # write category name in sheet\n",
    "    newsheet[col_letter + '8'] = category[0].upper()\n",
    "\n",
    "    # Loop through each subcategory to record amounts\n",
    "    for subcategory in category[1].keys():\n",
    "        newsheet[col_letter + str(row_number)] = totals[category[0]][subcategory]\n",
    "        row_number += 1\n",
    "\n",
    "    # move to next category's column\n",
    "    col_number += 2\n",
    "\n",
    "\n",
    "# Monthly total labels\n",
    "\n",
    "newsheet['H20'] = 'Month'\n",
    "row = 21\n",
    "\n",
    "for category in list(bymonth_totals.keys()):\n",
    "    newsheet['H' + str(row)] = category\n",
    "    row += 1\n",
    "\n",
    "\n",
    "wb.save('PracticeCheckingSheet.xlsx')"
   ]
  },
  {
   "cell_type": "code",
   "execution_count": null,
   "id": "5d348863",
   "metadata": {},
   "outputs": [],
   "source": [
    "descriptions"
   ]
  },
  {
   "cell_type": "code",
   "execution_count": null,
   "id": "7a93873c",
   "metadata": {},
   "outputs": [],
   "source": []
  }
 ],
 "metadata": {
  "kernelspec": {
   "display_name": "Python 3 (ipykernel)",
   "language": "python",
   "name": "python3"
  },
  "language_info": {
   "codemirror_mode": {
    "name": "ipython",
    "version": 3
   },
   "file_extension": ".py",
   "mimetype": "text/x-python",
   "name": "python",
   "nbconvert_exporter": "python",
   "pygments_lexer": "ipython3",
   "version": "3.11.5"
  }
 },
 "nbformat": 4,
 "nbformat_minor": 5
}
